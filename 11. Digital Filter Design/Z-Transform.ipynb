{
 "cells": [
  {
   "cell_type": "markdown",
   "metadata": {},
   "source": [
    "# The Z-Transform\n",
    "\n",
    "Just as analog filters are designed using the Laplace transform, recursive digital filters are developed with a parallel technique called the z-transform. The overall strategy of these two transforms is the same: probe the impulse response with sinusoids and exponentials to find the system's poles and zeros. The Laplace transform deals with differential equations, the s-domain, and the s-plane. Correspondingly, the z-transform deals with difference equations, the z-domain, and the z-plane. However, the two techniques are not a mirror image of each other; the s-plane is arranged in a rectangular coordinate system, while the z-plane uses a polar format. \n",
    "\n",
    "The standard form of the z-transform is given by:\n",
    "$$X(z) = \\sum \\limits^{\\infty}_{n=-\\infty} x[n]z^{-n} $$\n",
    "\n",
    "where $z=re^{j\\omega}$ and $r=e^{\\sigma}$.\n",
    "\n",
    "The utility to have the z-transform resides in the implementation of recursive filters, which uses *recursion coefficients*. To analyze these systems in the z-domain, we must be able to convert these recursion coefficients into the z-domain *transfer function*, and back again. Defining the z-transform in this manner ($r^n$ and $z$) provides the simplest means of moving between these two important representations. In fact, defining the z-domain in this way makes it trivial to move from one representation to the other."
   ]
  },
  {
   "cell_type": "markdown",
   "metadata": {},
   "source": [
    "## Stability and Relation with the Fourier Transform\n",
    "\n",
    "In a continous system, if a pole occupies the right half of the s-plane (by the use of the Laplace transform) the system will be unstable. In the case of a discrete system, the system will be unstable if the poles are outside the unit circle in the z-plane. When the time domain signal is completly real, the upper and lower halves of the z-plane are mirror images of each other, just as with the s-domain.\n",
    "\n",
    "A continous sinusoid can have any frequency between DC and infinity, a discrete sinusoid can only have a frequency between DC and one-half of the sampling rate. That is, frequency must be between 0 and 0.5, or between 0 and $\\pi$ when expressed as a natural frequency.\n",
    "\n",
    "The Laplace transform, evaluated at $\\sigma = 0$, is equal to the Fourier transform. Evaluating the z-transform at $r=1$ is equal to the Discrete Time Fourier Transform (DTFT)."
   ]
  },
  {
   "cell_type": "markdown",
   "metadata": {},
   "source": [
    "## Analysis of Recursive Systems\n",
    "\n",
    "A recursive filter is described by a **difference equation**:\n",
    "\n",
    "$$ y[n] = a_0 x[n] + a_1 x[n-1] + a_2 x[n-2] + a_3 x[n-3] + \\cdot \\cdot \\cdot + b_1 y[n-1] + b_2 y[n-2] + b_3 y[n-3] + \\cdot \\cdot \\cdot $$ <br>\n",
    "where $x$ and $y$ are the input and output signals respectively, and $a$ and $b$ terms are the **recursion coefficients**."
   ]
  },
  {
   "cell_type": "markdown",
   "metadata": {},
   "source": [
    "Applying the z-transform to difference equation gives us:\n",
    "\n",
    "$$ Y[z] = a_0 X(z) + a_1 X(z) z^{-1} + a_2 X(z) z^{-2} + a_3 X(z) z^{-3} + \\cdot \\cdot \\cdot + b_1 Y(z)z^{-1} + b_2 Y(z)z^{-2} + b_3 Y(z)z^{-3} + \\cdot \\cdot \\cdot $$\n",
    "\n",
    "\n",
    "and the **system's transfer function** is:\n",
    "\n",
    "$$H[z] = \\frac{a_0 + a_1z^{-1} + a_2z^{-2} + a_3z^{-3} + \\cdot \\cdot \\cdot}{1 - b_1z^{-1} - b_2z^{-2} - b_3z^{-3}} $$\n"
   ]
  },
  {
   "cell_type": "code",
   "execution_count": 5,
   "metadata": {},
   "outputs": [],
   "source": [
    "import matplotlib.pyplot as plt\n",
    "import numpy as np\n",
    "import scipy.signal"
   ]
  },
  {
   "cell_type": "code",
   "execution_count": 2,
   "metadata": {},
   "outputs": [],
   "source": [
    "def filter_frequency_response(a, b, w = np.arange(0, np.pi, 0.1)):\n",
    "    \"\"\" \n",
    "    Function that generates the frequency response of a digital filter given the coeficients of \n",
    "    polynomials a0 + a_1*x + a_2*x^2 + ... and b0 + b_1*x + b_2*x^2 + ...\n",
    "  \n",
    "    Parameters: \n",
    "    w (numpy array): Array of natural frequency values.\n",
    "    a (numpy array): Array of recursion coefficients a.\n",
    "    b (numpy array): Array of recursion coefficients b.\n",
    "  \n",
    "    Returns: \n",
    "    numpy array: Returns filter response.\n",
    "  \n",
    "    \"\"\"\n",
    "    z = np.exp(1j*w)\n",
    "    \n",
    "    a_degree = np.arange(0,len(a))\n",
    "    b_degree = np.arange(0,len(b))\n",
    "    \n",
    "    N = len(z)\n",
    "    na = len(a_degree)\n",
    "    nb = len(b_degree)\n",
    "    \n",
    "    ZA = (np.repeat(z,na, axis = 0)).reshape(N,na)\n",
    "    ZB = (np.repeat(z,nb, axis = 0)).reshape(N,nb)\n",
    "    \n",
    "    z_a = np.dot((ZA**a_degree),a)\n",
    "    z_b = np.dot((ZB**b_degree),b)\n",
    "    return z_a/z_b\n",
    "\n",
    "\n",
    "def idft(X):\n",
    "    \"\"\" \n",
    "    Function that calculates the Complex IDFT\n",
    "  \n",
    "    Parameters: \n",
    "    X (numpy array): Array of numbers that represents the DFT of a signal.\n",
    "  \n",
    "    Returns: \n",
    "    numpy array: Returns IDFT of a given signal.\n",
    "  \n",
    "    \"\"\"\n",
    "    N = len(X)\n",
    "    x = np.zeros(N, dtype=complex)\n",
    "    for n in range(N):\n",
    "        for k in range(N):\n",
    "            x[n] = x[n] + X[k]*np.exp(1j*2*np.pi*k*n/N)\n",
    "    return x\n",
    "\n",
    "\n",
    "def zeros_poles_gain(a, b):\n",
    "    \"\"\" \n",
    "    Function that calculates the zeros, poles and gain of a given transfer function which consists of\n",
    "    the coeficients of polynomials a0 + a_1*x + a_2*x^2 + ... and b0 + b_1*x + b_2*x^2 + ...\n",
    "  \n",
    "    Parameters: \n",
    "    a (numpy array): Array of recursion coefficients a.\n",
    "    b (numpy array): Array of recursion coefficients b.\n",
    "  \n",
    "    Returns: z,p,g\n",
    "    z (numpy array): Zeros of transfer function.\n",
    "    p (numpy array): Poles of transfer function.\n",
    "    g (numpy array): Gain of transfer function.\n",
    "  \n",
    "    \"\"\"\n",
    "    return scipy.signal.tf2zpk(np.flip(a),np.flip(b))\n",
    "\n",
    "\n",
    "\n",
    "def plot_zeros_poles(z, p):\n",
    "    \"\"\" \n",
    "    Function that plots zeros and poles of transfer function\n",
    "  \n",
    "    Parameters: \n",
    "    z (numpy array): Array of zeros.\n",
    "    p (numpy array): Array of poles.\n",
    "  \n",
    "    Returns: \n",
    "    Plot of zeros and poles of transfer function.\n",
    "  \n",
    "    \"\"\"\n",
    "    ax = plt.subplot(133)\n",
    "    x = np.arange(-1,1,0.00001)\n",
    "    y = np.zeros(len(x))\n",
    "    ax.plot(x,np.sqrt(1-x**2),'black')\n",
    "    ax.plot(x,-np.sqrt(1-x**2), 'black')\n",
    "    ax.plot(np.real(z), np.imag(z), 'bo', fillstyle = 'none', markersize=12)\n",
    "    ax.plot(np.real(p), np.imag(p), 'rx', markersize=12)\n",
    "    ax.grid(b=True, which = 'major')\n",
    "    axis_x = np.arange(-1.5,1.5,0.00001)\n",
    "    axis_y = np.zeros(len(axis_x))\n",
    "    ax.plot(axis_x,axis_y, 'gray')\n",
    "    ax.plot(axis_y,axis_x, 'gray')\n",
    "    ax.set_xlim([-1.5, 1.5])\n",
    "    ax.set_ylim([-1.5, 1.5])\n",
    "    plt.xlabel('Re')\n",
    "    plt.ylabel('Im');"
   ]
  },
  {
   "cell_type": "markdown",
   "metadata": {},
   "source": [
    "As an example suppose that a filter is given by:\n",
    "\n",
    "$$H[z] = \\frac{1.000 -1.414z + 1.000z^{2} }{0.810 -1.273z +1.000z^{2}} $$"
   ]
  },
  {
   "cell_type": "code",
   "execution_count": 8,
   "metadata": {},
   "outputs": [],
   "source": [
    "a = np.array([1, -1.414, 1])\n",
    "b = np.array([0.810, -1.273, 1])\n",
    "w = np.arange(0, np.pi, 0.01)\n",
    "\n",
    "H_w = filter_frequency_response(a,b,w)\n",
    "impulse_response = idft(H_w)\n",
    "z, p, g = zeros_poles_gain(a, b)"
   ]
  },
  {
   "cell_type": "code",
   "execution_count": 9,
   "metadata": {},
   "outputs": [
    {
     "data": {
      "image/png": "[encoded data removed]",
      "text/plain": [
       "<Figure size 1080x360 with 3 Axes>"
      ]
     },
     "metadata": {
      "needs_background": "light"
     },
     "output_type": "display_data"
    }
   ],
   "source": [
    "plt.rcParams[\"figure.figsize\"] = (15,5)\n",
    "\n",
    "plt.subplot(1, 3, 1)\n",
    "plt.plot(w/(2*max(w)), np.absolute(H_w), '.-')\n",
    "plt.title('Frequency Response')\n",
    "plt.xlabel('frequency')\n",
    "\n",
    "plt.subplot(1, 3, 2)\n",
    "plt.stem(impulse_response[0:25]/np.max(impulse_response), use_line_collection=True)\n",
    "plt.title('Impulse Response')\n",
    "plt.xlabel('sample')\n",
    "\n",
    "plot_zeros_poles(z, p)\n",
    "plt.title('Zeros and Poles')\n",
    "plt.xlabel('sample');"
   ]
  },
  {
   "cell_type": "markdown",
   "metadata": {},
   "source": [
    "### Reading material\n",
    "[1] https://dsp.stackexchange.com/questions/41642/filter-design-with-zero-pole-placement-method"
   ]
  },
  {
   "cell_type": "code",
   "execution_count": null,
   "metadata": {},
   "outputs": [],
   "source": []
  },
  {
   "cell_type": "code",
   "execution_count": null,
   "metadata": {},
   "outputs": [],
   "source": []
  }
 ],
 "metadata": {
  "kernelspec": {
   "display_name": "Python 3",
   "language": "python",
   "name": "python3"
  },
  "language_info": {
   "codemirror_mode": {
    "name": "ipython",
    "version": 3
   },
   "file_extension": ".py",
   "mimetype": "text/x-python",
   "name": "python",
   "nbconvert_exporter": "python",
   "pygments_lexer": "ipython3",
   "version": "3.7.4"
  }
 },
 "nbformat": 4,
 "nbformat_minor": 2
}
